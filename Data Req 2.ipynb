{
 "cells": [
  {
   "cell_type": "code",
   "execution_count": 1,
   "id": "fa4257f8",
   "metadata": {},
   "outputs": [
    {
     "name": "stdout",
     "output_type": "stream",
     "text": [
      "\n"
     ]
    },
    {
     "name": "stderr",
     "output_type": "stream",
     "text": [
      "[WDM] - ====== WebDriver manager ======\n",
      "[WDM] - Current google-chrome version is 103.0.5060\n",
      "[WDM] - Get LATEST chromedriver version for 103.0.5060 google-chrome\n",
      "[WDM] - About to download new driver from https://chromedriver.storage.googleapis.com/103.0.5060.134/chromedriver_win32.zip\n",
      "[WDM] - Driver has been saved in cache [C:\\Users\\Ghost\\.wdm\\drivers\\chromedriver\\win32\\103.0.5060.134]\n",
      "C:\\Users\\Ghost\\AppData\\Local\\Temp\\ipykernel_16400\\1374814373.py:8: DeprecationWarning: executable_path has been deprecated, please pass in a Service object\n",
      "  driver = webdriver.Chrome(ChromeDriverManager().install())\n"
     ]
    },
    {
     "name": "stdout",
     "output_type": "stream",
     "text": [
      "@HG.1 3.4935 3.5945 3.4605 3.4745 - 56,297.64\n",
      "@HG.2 3.5005 3.596 3.4765 3.481 - 93.36\n",
      "@HG.3 3.5055 3.602 3.496 3.486 - 32.64\n",
      "@HG.4 3.506 3.60 3.4755 3.4875 - 7,827.64\n",
      "@HG.5 3.5845 3.604 3.5845 3.492 - 13.09\n",
      "@HG.6 3.6085 3.611 3.6085 3.497 - 6.73\n",
      "@GC.1 1,762.40 1,774.20 1,758.40 1,759.00 - 8,010.55\n",
      "@GC.2 1,773.10 1,784.60 1,768.40 1,769.20 - 67,007.27\n",
      "@GC.3 1,784.00 1,796.00 1,781.00 1,780.70 - 1,006\n",
      "@GC.4 1,805.10 1,806.70 1,795.10 1,791.70 - 276.55\n",
      "@GC.5 1,814.90 1,816.60 1,804.60 1,801.90 - 125.82\n",
      "@GC.6 1,818.00 1,818.00 1,818.00 1,811.90 - 94.09\n",
      "@SI.1 19.99 20.35 19.825 19.868 - 46,636.73\n",
      "@SI.2 20.125 20.49 19.975 20.018 - 2,787.45\n",
      "@SI.3 0.00 0.00 0.00 20.065 - 7.82\n",
      "@SI.4 20.295 20.56 20.235 20.162 - 282.36\n",
      "@SI.5 20.64 20.68 20.62 20.293 - 23.91\n",
      "@SI.6 0.00 0.00 0.00 20.42 - 7.18\n",
      "@CL.1 97.30 101.88 96.41 96.42 - 270,873.27\n",
      "@CL.2 95.42 99.75 94.59 94.65 - 88,226.64\n",
      "@CL.3 94.08 97.91 93.22 93.28 - 50,413.09\n",
      "@CL.4 92.68 96.15 91.81 91.91 - 75,332.36\n",
      "@CL.5 91.38 94.50 90.59 90.59 - 21,909.91\n",
      "@CL.6 90.22 93.09 89.47 89.40 - 11,317.91\n",
      "@NG.1 8.155 8.388 8.01 8.134 - 75,152.36\n",
      "@NG.2 8.16 8.356 7.995 8.118 - 28,640.36\n",
      "@NG.3 8.24 8.434 8.078 8.199 - 18,774.27\n",
      "@NG.4 8.336 8.523 8.177 8.299 - 12,108.45\n",
      "@NG.5 8.413 8.603 8.247 8.372 - 17,947.45\n",
      "@NG.6 7.999 8.147 7.805 7.936 - 7,610.64\n",
      "US10Y 2.678% 2.728% 2.618% 2.681% 101.8594 -\n",
      "US2Y 2.878% 2.959% 2.826% 2.877% 100.2109 -\n",
      "US5Y 2.703% 2.767% 2.658% 2.703% 100.3203 -\n",
      "@UXX.1 0.00 0.00 0.00 49.20 - -\n"
     ]
    }
   ],
   "source": [
    "from selenium import webdriver\n",
    "from selenium.webdriver.common.by import By\n",
    "from webdriver_manager.chrome import ChromeDriverManager\n",
    "driver = webdriver.Chrome(ChromeDriverManager().install())\n",
    " \n",
    "datas = ['contract', 'opan', 'high', 'low', 'last', 'current_price', 'vol']\n",
    "    \n",
    "contracts = ['@HG.1', '@HG.2', '@HG.3', '@HG.4', '@HG.5', '@HG.6', '@GC.1', '@GC.2', '@GC.3', '@GC.4', '@GC.5', '@GC.6', '@SI.1', '@SI.2', '@SI.3', '@SI.4', '@SI.5', '@SI.6', '@CL.1', '@CL.2', '@CL.3', '@CL.4', '@CL.5', '@CL.6', '@NG.1', '@NG.2', '@NG.3', '@NG.4', '@NG.5', '@NG.6', 'US10Y', 'US2Y', 'US5Y', '@UXX.1']\n",
    "for j in contracts:\n",
    "    driver.get(\"https://www.cnbc.com/quotes/\"+j)\n",
    "    driver.implicitly_wait(30)\n",
    "    contract = j\n",
    "    opan = driver.find_element(By.XPATH, \"//div[@class='Summary-subsection']//*[contains(text(), 'Open')]/following-sibling::*\").text\n",
    "    high = driver.find_element(By.XPATH, \"//div[@class='Summary-subsection']//*[contains(text(), 'Day High')]/following-sibling::*\").text\n",
    "    low = driver.find_element(By.XPATH, \"//div[@class='Summary-subsection']//*[contains(text(), 'Day Low')]/following-sibling::*\").text\n",
    "    last = driver.find_element(By.XPATH, \"//div[@class='Summary-subsection']//*[contains(text(), 'Prev Close')]/following-sibling::*\").text\n",
    "    try:\n",
    "        current_price = driver.find_element(By.XPATH, \"//div[@class='Summary-subsection']//*[text()='Price']/following-sibling::*\").text\n",
    "    except:\n",
    "        current_price = '-'\n",
    "    try:\n",
    "        vol = driver.find_element(By.XPATH, \"//div[@class='Summary-subsection']//*[contains(text(), 'Average Volume')]/following-sibling::*\").text\n",
    "    except:\n",
    "        vol = '-'\n",
    "    \n",
    "    print(contract, opan, high, low, last, current_price, vol)\n",
    "    datas.append([contract, opan, high, low, last, current_price, vol])\n",
    "    \n",
    "try:\n",
    "    driver.get(\"http://www.dce.com.cn/webquote/mobile/m_futures_quote_en.jsp?varietyid=I\")\n",
    "    driver.implicitly_wait(30)\n",
    "    data = [i.text.split(' ') for i in driver.find_elements(By.XPATH, '//table[@id=\"dataTable\"]/tbody//tr')[:6]]\n",
    "    for i in data:\n",
    "        contract, opan, high, low, last, vol = i[0], i[1], i[2], i[3], i[4], i[10]\n",
    "        print(contract, opan, high, low, last, current_price, vol)\n",
    "        datas.append([contract, opan, high, low, last, current_price, vol])\n",
    "except:\n",
    "    pass"
   ]
  },
  {
   "cell_type": "code",
   "execution_count": null,
   "id": "be8cd817",
   "metadata": {},
   "outputs": [],
   "source": []
  }
 ],
 "metadata": {
  "kernelspec": {
   "display_name": "Python 3 (ipykernel)",
   "language": "python",
   "name": "python3"
  },
  "language_info": {
   "codemirror_mode": {
    "name": "ipython",
    "version": 3
   },
   "file_extension": ".py",
   "mimetype": "text/x-python",
   "name": "python",
   "nbconvert_exporter": "python",
   "pygments_lexer": "ipython3",
   "version": "3.9.12"
  }
 },
 "nbformat": 4,
 "nbformat_minor": 5
}
